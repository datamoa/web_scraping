{
 "cells": [
  {
   "cell_type": "code",
   "execution_count": 104,
   "metadata": {},
   "outputs": [],
   "source": [
    " # Dependencies\n",
    "from bs4 import BeautifulSoup\n",
    "from splinter import Browser"
   ]
  },
  {
   "cell_type": "code",
   "execution_count": 108,
   "metadata": {},
   "outputs": [],
   "source": [
    "executable_path = {'executable_path': 'chromedriver.exe'}\n",
    "browser = Browser('chrome', **executable_path, headless=False)"
   ]
  },
  {
   "cell_type": "code",
   "execution_count": 167,
   "metadata": {},
   "outputs": [],
   "source": [
    "# URL of page to be scraped\n",
    "url = 'https://mars.nasa.gov/news/?page=0&per_page=40&order=publish_date+desc%2Ccreated_at+desc&search=&category=19%2C165%2C184%2C204&blank_scope=Latest'\n",
    "browser.visit(url)"
   ]
  },
  {
   "cell_type": "code",
   "execution_count": 169,
   "metadata": {},
   "outputs": [
    {
     "name": "stdout",
     "output_type": "stream",
     "text": [
      "Space Samples Link NASA's Apollo 11 and Mars 2020\n",
      "While separated by half a century, NASA's Apollo 11 and Mars 2020 missions share the same historic goal: returning samples to Earth.\n",
      "https://mars.nasa.gov/news/8502/space-samples-link-nasas-apollo-11-and-mars-2020/\n"
     ]
    }
   ],
   "source": [
    "# Iterate through all pages\n",
    "for x in range(1):\n",
    "    # HTML object\n",
    "    html = browser.html\n",
    "    # Parse HTML with Beautiful Soup\n",
    "    soup = BeautifulSoup(html, 'html.parser')\n",
    "    # Retrieve all elements that contain new articles \n",
    "    articles = soup.find('div', class_='content_title')\n",
    "\n",
    "    # Iterate through each article\n",
    "    for article in articles:\n",
    "        # Use Beautiful Soup's find() method to navigate and retrieve attributes\n",
    "        news_title = soup.find('div', class_='content_title')\n",
    "        news_p = soup.find('div', class_='article_teaser_body')\n",
    "        print(news_title.text)\n",
    "        print(news_p.text)\n",
    "        print('https://mars.nasa.gov' + href)\n",
    "#     # Click the 'Next' button on each page\n",
    "#     try:\n",
    "# #         browser.click_link_by_partial_text('next')\n",
    "          \n",
    "#     except:\n",
    "#         print(\"Scraping Complete\")"
   ]
  },
  {
   "cell_type": "code",
   "execution_count": 168,
   "metadata": {},
   "outputs": [
    {
     "name": "stdout",
     "output_type": "stream",
     "text": [
      "Space Samples Link NASA's Apollo 11 and Mars 2020\n",
      "While separated by half a century, NASA's Apollo 11 and Mars 2020 missions share the same historic goal: returning samples to Earth.\n"
     ]
    }
   ],
   "source": [
    "#Iterate through the page\n",
    "for x in range(1):\n",
    "    #HITMl object\n",
    "    html = browser.html\n",
    "    soup = BeautifulSoup(html, 'html.parser')\n",
    "\n",
    "    news_title = soup.find('div', class_='content_title')\n",
    "    new_p = soup.find('div', class_='article_teaser_body')\n",
    "\n",
    "\n",
    "    for title in news_title:\n",
    "        print(title.text)\n",
    "        print(new_p.text)\n",
    "\n",
    "#     browser.click_link_by_partial_text('Next')"
   ]
  },
  {
   "cell_type": "code",
   "execution_count": null,
   "metadata": {},
   "outputs": [],
   "source": []
  }
 ],
 "metadata": {
  "kernelspec": {
   "display_name": "Python 3",
   "language": "python",
   "name": "python3"
  },
  "language_info": {
   "codemirror_mode": {
    "name": "ipython",
    "version": 3
   },
   "file_extension": ".py",
   "mimetype": "text/x-python",
   "name": "python",
   "nbconvert_exporter": "python",
   "pygments_lexer": "ipython3",
   "version": "3.7.3"
  }
 },
 "nbformat": 4,
 "nbformat_minor": 2
}
